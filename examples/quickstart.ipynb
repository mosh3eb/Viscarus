{
 "cells": [
  {
   "cell_type": "markdown",
   "id": "6dd59aee",
   "metadata": {},
   "source": [
    "# Viscarus: Quick Start Guide\n",
    "\n",
    "This notebook demonstrates the key features of Viscarus, a dynamic vision model with multi-modal understanding."
   ]
  },
  {
   "cell_type": "code",
   "execution_count": null,
   "id": "662c6cfe",
   "metadata": {},
   "outputs": [],
   "source": [
    "import torch\n",
    "from src.models.viscarus import Viscarus, ViscarusMultiModal, ViscarusExplainer\n",
    "from PIL import Image\n",
    "import matplotlib.pyplot as plt"
   ]
  },
  {
   "cell_type": "markdown",
   "id": "6cb94439",
   "metadata": {},
   "source": [
    "## 1. Basic Image Classification"
   ]
  },
  {
   "cell_type": "code",
   "execution_count": null,
   "id": "3edfe711",
   "metadata": {},
   "outputs": [],
   "source": [
    "# Load model\n",
    "model = Viscarus(pretrained=True)\n",
    "\n",
    "# Example prediction\n",
    "image = Image.open('example.jpg')\n",
    "predictions = model(image)\n",
    "print(f\"Predictions: {predictions}\")"
   ]
  },
  {
   "cell_type": "markdown",
   "id": "ffeca87f",
   "metadata": {},
   "source": [
    "## 2. Multi-modal Understanding"
   ]
  },
  {
   "cell_type": "code",
   "execution_count": null,
   "id": "2b0b2f38",
   "metadata": {},
   "outputs": [],
   "source": [
    "# Load multi-modal model\n",
    "multimodal_model = ViscarusMultiModal(pretrained=True)\n",
    "\n",
    "# Process image and text\n",
    "text = \"A dog playing in the park\"\n",
    "results = multimodal_model(image, text)\n",
    "print(f\"Multi-modal results: {results}\")"
   ]
  },
  {
   "cell_type": "markdown",
   "id": "ecba7f19",
   "metadata": {},
   "source": [
    "## 3. Model Explainability"
   ]
  },
  {
   "cell_type": "code",
   "execution_count": null,
   "id": "24e04240",
   "metadata": {},
   "outputs": [],
   "source": [
    "# Initialize explainer\n",
    "explainer = ViscarusExplainer(model)\n",
    "\n",
    "# Generate and visualize explanations\n",
    "explanations = explainer.generate_explanations(image)\n",
    "explainer.visualize_explanations(explanations, image, save_path='explanation.png')"
   ]
  }
 ],
 "metadata": {
  "kernelspec": {
   "display_name": "venv",
   "language": "python",
   "name": "python3"
  },
  "language_info": {
   "name": "python",
   "version": "3.10.0"
  }
 },
 "nbformat": 4,
 "nbformat_minor": 5
}
